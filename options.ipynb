{
 "cells": [
  {
   "attachments": {},
   "cell_type": "markdown",
   "metadata": {},
   "source": [
    "# Introduction to Options\n",
    "#### Lucien Chen"
   ]
  },
  {
   "attachments": {},
   "cell_type": "markdown",
   "metadata": {},
   "source": [
    "## Definitions\n",
    "- *Derivative* - a financial instrument whose value depends on one (or more) underlying variables\n",
    "- *Strike* - the price fixed by the options contract\n",
    "- *Maturity* - also known as the expiration date, the day the contract expires\n",
    "- *Premium* - price you pay per share for an option broken down into intrinsic value and extrinsic, or time, value\n",
    "- *Spot* - the price of an asset that can be sold or bought immediately, the current trading price\n",
    "- *Intrinsic value* - the positive difference between the spot and the strike (call); the positive difference between the strike and the spot (put)\n",
    "- *Time value* - value of an option based on it's DTE (days to expiration) due to the possibility of an increase in instrinsic value"
   ]
  },
  {
   "attachments": {},
   "cell_type": "markdown",
   "metadata": {},
   "source": [
    "## What are Options?\n",
    " - Options are financial derivatives (FDs), i.e futures, forward contracts, swaps, etc., that give a buyer the right, but not an obligation, to buy a sell a security at a certain price, known as the strike, at a certain date\n",
    " - Call options are an agreement to buy shares of stock (usually in quantities of 100) at a certain price by a certain date\n",
    " - Put options are an agreement to sell shares of a stock (usually in quantities of 100) at a certain price by a certain date\n",
    " - American vs. European options: European options can only be exercised on the expiration date where as American options can be exercised anytime before\n",
    " - Options and other FDs are commonly used for hedging, speculation, arbitrage and C-suite compensation\n",
    " - Hedgers aim to reduce risk, speculators aim to profit from betting on future movements in the underlying, and arbitrageurs aim to profit from the bid-ask spread on options"
   ]
  },
  {
   "cell_type": "code",
   "execution_count": 2,
   "metadata": {},
   "outputs": [],
   "source": [
    "import pandas as pd\n",
    "import numpy as np\n",
    "import matplotlib.pyplot as plt\n",
    "from scipy.stats import norm\n",
    "import yfinance as yf"
   ]
  },
  {
   "cell_type": "code",
   "execution_count": 3,
   "metadata": {},
   "outputs": [
    {
     "data": {
      "text/html": [
       "<div>\n",
       "<style scoped>\n",
       "    .dataframe tbody tr th:only-of-type {\n",
       "        vertical-align: middle;\n",
       "    }\n",
       "\n",
       "    .dataframe tbody tr th {\n",
       "        vertical-align: top;\n",
       "    }\n",
       "\n",
       "    .dataframe thead th {\n",
       "        text-align: right;\n",
       "    }\n",
       "</style>\n",
       "<table border=\"1\" class=\"dataframe\">\n",
       "  <thead>\n",
       "    <tr style=\"text-align: right;\">\n",
       "      <th></th>\n",
       "      <th>European Call</th>\n",
       "      <th>European Put</th>\n",
       "      <th>American Call</th>\n",
       "      <th>American Put</th>\n",
       "    </tr>\n",
       "  </thead>\n",
       "  <tbody>\n",
       "    <tr>\n",
       "      <th>Current Price</th>\n",
       "      <td>+</td>\n",
       "      <td>-</td>\n",
       "      <td>+</td>\n",
       "      <td>-</td>\n",
       "    </tr>\n",
       "    <tr>\n",
       "      <th>Strike</th>\n",
       "      <td>-</td>\n",
       "      <td>+</td>\n",
       "      <td>-</td>\n",
       "      <td>+</td>\n",
       "    </tr>\n",
       "    <tr>\n",
       "      <th>Time to Expiration</th>\n",
       "      <td>?</td>\n",
       "      <td>?</td>\n",
       "      <td>+</td>\n",
       "      <td>+</td>\n",
       "    </tr>\n",
       "    <tr>\n",
       "      <th>Volatility</th>\n",
       "      <td>+</td>\n",
       "      <td>+</td>\n",
       "      <td>+</td>\n",
       "      <td>+</td>\n",
       "    </tr>\n",
       "    <tr>\n",
       "      <th>Risk-free Rate</th>\n",
       "      <td>+</td>\n",
       "      <td>-</td>\n",
       "      <td>+</td>\n",
       "      <td>-</td>\n",
       "    </tr>\n",
       "    <tr>\n",
       "      <th>Future Dividends</th>\n",
       "      <td>-</td>\n",
       "      <td>+</td>\n",
       "      <td>-</td>\n",
       "      <td>+</td>\n",
       "    </tr>\n",
       "  </tbody>\n",
       "</table>\n",
       "</div>"
      ],
      "text/plain": [
       "                   European Call European Put American Call American Put\n",
       "Current Price                  +            -             +            -\n",
       "Strike                         -            +             -            +\n",
       "Time to Expiration             ?            ?             +            +\n",
       "Volatility                     +            +             +            +\n",
       "Risk-free Rate                 +            -             +            -\n",
       "Future Dividends               -            +             -            +"
      ]
     },
     "execution_count": 3,
     "metadata": {},
     "output_type": "execute_result"
    }
   ],
   "source": [
    "cols = ['European Call', 'European Put', 'American Call', 'American Put']\n",
    "spot = ['+', '-', '+', '-']\n",
    "strike = ['-', '+', '-', '+']\n",
    "maturity = ['?', '?', '+', '+']\n",
    "vega = ['+', '+', '+', '+']\n",
    "rho = ['+', '-', '+', '-']\n",
    "dividends = ['-', '+', '-', '+']\n",
    "option_properties = pd.DataFrame(columns = cols)\n",
    "option_properties.loc['Current Price'] = spot\n",
    "option_properties.loc['Strike'] = strike\n",
    "option_properties.loc['Time to Expiration'] = maturity\n",
    "option_properties.loc['Volatility'] = vega\n",
    "option_properties.loc['Risk-free Rate'] = rho\n",
    "option_properties.loc['Future Dividends'] = dividends\n",
    "option_properties"
   ]
  },
  {
   "attachments": {},
   "cell_type": "markdown",
   "metadata": {},
   "source": [
    "###### **Assuming variables increase*\n",
    "\n",
    "__*+*__ represents an increase in value\n",
    "\n",
    "__*-*__ represents a decrease in value\n",
    "\n",
    "__*?*__ represents an ambiguous change"
   ]
  },
  {
   "cell_type": "code",
   "execution_count": 4,
   "metadata": {},
   "outputs": [],
   "source": [
    "rf = yf.Ticker('^IRX').history().Close.iloc[-1] / 100 "
   ]
  },
  {
   "attachments": {},
   "cell_type": "markdown",
   "metadata": {},
   "source": [
    "The Black-Scholes option formula is a formula that is commonly used to price *European* options.\n",
    "\n",
    "Assumptions:\n",
    " - Dividends are not paid out over the course of the options life\n",
    " - Markets are random\n",
    " - Zero transaction costs\n",
    " - Risk-free rate and volatility are constant\n",
    " - Returns are normally distributed\n",
    " - Option can only be exercised at expiration\n",
    " \n",
    "$$C=N(d_1)S_t - N(d_2)Ke^{-rt}$$\n",
    "$$P=N(d_1)K - N(d_2)S_te^{-rt}$$\n",
    "$$d_1=\\frac{\\ln{\\frac{S_t}{K}} + (r + \\frac{\\sigma^2}{2})t}{\\sigma\\sqrt{t}}$$\n",
    "$$d_2=d_1 - \\sigma\\sqrt{t}$$\n",
    "\n",
    "C = call option price\n",
    "\n",
    "P = put option price\n",
    "\n",
    "N = cumulative distribution function (cdf) of the normal distribution\n",
    "\n",
    "$S_t$ = spot price of the underlying\n",
    "\n",
    "K = strike price\n",
    "\n",
    "r = risk-free rate\n",
    "\n",
    "t = time to expiration\n",
    "\n",
    "$\\sigma$ = volatility of the underlying"
   ]
  },
  {
   "cell_type": "code",
   "execution_count": 5,
   "metadata": {},
   "outputs": [],
   "source": [
    "def bs_call(S, K, r, t, sigma):\n",
    "    N = norm.cdf\n",
    "    d1 = (np.log(S/K) + ((r + (sigma**2 / 2)) * t)) / (sigma * np.sqrt(t))\n",
    "    d2 = d1 - (sigma * np.sqrt(t))\n",
    "    return N(d1) * S - N(d2) * K * (np.e ** (-r * t))\n",
    "\n",
    "def bs_put(S, K, r, t, sigma):\n",
    "    N = norm.cdf\n",
    "    d1 = (np.log(S/K) + ((r + (sigma**2 / 2)) * t)) / (sigma * np.sqrt(t))\n",
    "    d2 = d1 - (sigma * np.sqrt(t))\n",
    "    return N(d1) * K - N(d2) * S * (np.e ** (-r * t))"
   ]
  },
  {
   "cell_type": "code",
   "execution_count": 11,
   "metadata": {},
   "outputs": [],
   "source": [
    "def create_graph(K, r, t, sigma):\n",
    "    S = np.arange(50, 151, 0.1)\n",
    "    calls = [bs_call(s, K, r, t, sigma) for s in S]\n",
    "    puts = [bs_put(s, K, r, t, sigma) for s in S]\n",
    "    fig = plt.figure(figsize=(8,4))\n",
    "    plt.plot(S, calls, label=\"Call Option Value\")\n",
    "    plt.plot(S, puts, label=\"Put Option Value\")\n",
    "    plt.xlabel(\"$S_0$\")\n",
    "    plt.ylabel(\"Value ($)\")\n",
    "    plt.title(\"Black-Scholes Pricing Demo\")\n",
    "    plt.legend()"
   ]
  },
  {
   "cell_type": "code",
   "execution_count": 13,
   "metadata": {},
   "outputs": [],
   "source": [
    "import ipywidgets as widgets\n",
    "from IPython.display import display"
   ]
  },
  {
   "cell_type": "code",
   "execution_count": 12,
   "metadata": {},
   "outputs": [
    {
     "data": {
      "application/vnd.jupyter.widget-view+json": {
       "model_id": "208ec3e3a1a0408c8b201e725f2e2d66",
       "version_major": 2,
       "version_minor": 0
      },
      "text/plain": [
       "interactive(children=(IntSlider(value=50, description='K', max=150, min=50), IntSlider(value=1, description='t…"
      ]
     },
     "metadata": {},
     "output_type": "display_data"
    },
    {
     "data": {
      "text/plain": [
       "<function __main__.create_graph(K, r, t, sigma)>"
      ]
     },
     "metadata": {},
     "output_type": "display_data"
    }
   ],
   "source": [
    "w = widgets.interact(create_graph, K=widgets.IntSlider(min=50, max=150), r=widgets.fixed(rf), t=widgets.IntSlider(min=1, max=365), sigma=widgets.FloatSlider(min = 0.05, max=1, step=0.05))\n",
    "display(w)"
   ]
  },
  {
   "attachments": {},
   "cell_type": "markdown",
   "metadata": {},
   "source": [
    "Sources: \n",
    "- investopedia.com\n",
    "- *Options, Futures, and Other Derivatives (9th Edition), Hull*"
   ]
  }
 ],
 "metadata": {
  "kernelspec": {
   "display_name": "Python 3",
   "language": "python",
   "name": "python3"
  },
  "language_info": {
   "codemirror_mode": {
    "name": "ipython",
    "version": 3
   },
   "file_extension": ".py",
   "mimetype": "text/x-python",
   "name": "python",
   "nbconvert_exporter": "python",
   "pygments_lexer": "ipython3",
   "version": "3.10.1"
  },
  "orig_nbformat": 4
 },
 "nbformat": 4,
 "nbformat_minor": 2
}
