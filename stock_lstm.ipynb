{
 "cells": [
  {
   "cell_type": "code",
   "execution_count": 1,
   "metadata": {},
   "outputs": [
    {
     "name": "stderr",
     "output_type": "stream",
     "text": [
      "2022-12-09 19:00:19.626533: I tensorflow/core/platform/cpu_feature_guard.cc:193] This TensorFlow binary is optimized with oneAPI Deep Neural Network Library (oneDNN) to use the following CPU instructions in performance-critical operations:  AVX2 FMA\n",
      "To enable them in other operations, rebuild TensorFlow with the appropriate compiler flags.\n"
     ]
    }
   ],
   "source": [
    "import math\n",
    "import pandas as pd\n",
    "import numpy as np\n",
    "import matplotlib.pyplot as plt\n",
    "import pandas_datareader as pdr\n",
    "from sklearn.preprocessing import MinMaxScaler\n",
    "from sklearn.model_selection import train_test_split\n",
    "from keras.models import Sequential\n",
    "from keras.layers import LSTM\n",
    "from keras.layers import Dropout\n",
    "from keras.layers import Dense\n",
    "plt.style.use(\"ggplot\")"
   ]
  },
  {
   "cell_type": "code",
   "execution_count": 2,
   "metadata": {},
   "outputs": [
    {
     "data": {
      "text/plain": [
       "[<matplotlib.lines.Line2D at 0x13a332050>]"
      ]
     },
     "execution_count": 2,
     "metadata": {},
     "output_type": "execute_result"
    },
    {
     "data": {
      "image/png": "[encoded data removed]",
      "text/plain": [
       "<Figure size 720x360 with 1 Axes>"
      ]
     },
     "metadata": {
      "needs_background": "light"
     },
     "output_type": "display_data"
    }
   ],
   "source": [
    "ticker = \"TGT\"\n",
    "data = pdr.get_data_yahoo(ticker)\n",
    "plt.figure(figsize=(10,5))\n",
    "plt.plot(data['Close'])"
   ]
  },
  {
   "cell_type": "code",
   "execution_count": 3,
   "metadata": {},
   "outputs": [],
   "source": [
    "close = data[\"Close\"].values\n",
    "training_data_len = math.ceil(len(close) * 0.8)\n",
    "scaler = MinMaxScaler(feature_range=(0, 1))\n",
    "data_scaled = scaler.fit_transform(close.reshape(-1, 1))\n",
    "train = data_scaled[:training_data_len, :]"
   ]
  },
  {
   "cell_type": "code",
   "execution_count": 4,
   "metadata": {},
   "outputs": [],
   "source": [
    "X_train = []\n",
    "y_train = []\n",
    "for i in range(60, len(train)):\n",
    "    X_train.append(train[i-60:i, 0])\n",
    "    y_train.append(train[i, 0])\n",
    "X_train, y_train = np.array(X_train), np.array(y_train)\n",
    "X_train = np.reshape(X_train, (X_train.shape[0], X_train.shape[1], 1))"
   ]
  },
  {
   "cell_type": "code",
   "execution_count": 5,
   "metadata": {},
   "outputs": [],
   "source": [
    "test = data_scaled[training_data_len - 60:, :]\n",
    "X_test =[]\n",
    "y_test = close[training_data_len:]\n",
    "for i in range(60, len(test)):\n",
    "    X_test.append(test[i-60:i, 0])\n",
    "X_test = np.array(X_test)\n",
    "X_test = np.reshape(X_test, (X_test.shape[0], X_test.shape[1], 1))"
   ]
  },
  {
   "cell_type": "code",
   "execution_count": 6,
   "metadata": {},
   "outputs": [
    {
     "name": "stderr",
     "output_type": "stream",
     "text": [
      "2022-12-09 19:00:29.390285: I tensorflow/core/platform/cpu_feature_guard.cc:193] This TensorFlow binary is optimized with oneAPI Deep Neural Network Library (oneDNN) to use the following CPU instructions in performance-critical operations:  AVX2 FMA\n",
      "To enable them in other operations, rebuild TensorFlow with the appropriate compiler flags.\n"
     ]
    },
    {
     "name": "stdout",
     "output_type": "stream",
     "text": [
      "Epoch 1/100\n",
      "30/30 [==============================] - 24s 132ms/step - loss: 0.0326\n",
      "Epoch 2/100\n",
      "30/30 [==============================] - 4s 133ms/step - loss: 0.0060\n",
      "Epoch 3/100\n",
      "30/30 [==============================] - 4s 142ms/step - loss: 0.0039\n",
      "Epoch 4/100\n",
      "30/30 [==============================] - 4s 131ms/step - loss: 0.0042\n",
      "Epoch 5/100\n",
      "30/30 [==============================] - 4s 140ms/step - loss: 0.0037\n",
      "Epoch 6/100\n",
      "30/30 [==============================] - 4s 142ms/step - loss: 0.0039\n",
      "Epoch 7/100\n",
      "30/30 [==============================] - 5s 152ms/step - loss: 0.0039\n",
      "Epoch 8/100\n",
      "30/30 [==============================] - 6s 186ms/step - loss: 0.0048\n",
      "Epoch 9/100\n",
      "30/30 [==============================] - 4s 143ms/step - loss: 0.0036\n",
      "Epoch 10/100\n",
      "30/30 [==============================] - 4s 129ms/step - loss: 0.0038\n",
      "Epoch 11/100\n",
      "30/30 [==============================] - 4s 130ms/step - loss: 0.0030\n",
      "Epoch 12/100\n",
      "30/30 [==============================] - 4s 125ms/step - loss: 0.0034\n",
      "Epoch 13/100\n",
      "30/30 [==============================] - 4s 131ms/step - loss: 0.0034\n",
      "Epoch 14/100\n",
      "30/30 [==============================] - 4s 135ms/step - loss: 0.0031\n",
      "Epoch 15/100\n",
      "30/30 [==============================] - 4s 129ms/step - loss: 0.0036\n",
      "Epoch 16/100\n",
      "30/30 [==============================] - 4s 124ms/step - loss: 0.0038\n",
      "Epoch 17/100\n",
      "30/30 [==============================] - 4s 128ms/step - loss: 0.0029\n",
      "Epoch 18/100\n",
      "30/30 [==============================] - 4s 126ms/step - loss: 0.0030\n",
      "Epoch 19/100\n",
      "30/30 [==============================] - 4s 126ms/step - loss: 0.0032\n",
      "Epoch 20/100\n",
      "30/30 [==============================] - 4s 116ms/step - loss: 0.0031\n",
      "Epoch 21/100\n",
      "30/30 [==============================] - 3s 107ms/step - loss: 0.0027\n",
      "Epoch 22/100\n",
      "30/30 [==============================] - 3s 105ms/step - loss: 0.0030\n",
      "Epoch 23/100\n",
      "30/30 [==============================] - 4s 133ms/step - loss: 0.0031\n",
      "Epoch 24/100\n",
      "30/30 [==============================] - 4s 147ms/step - loss: 0.0028\n",
      "Epoch 25/100\n",
      "30/30 [==============================] - 3s 111ms/step - loss: 0.0025\n",
      "Epoch 26/100\n",
      "30/30 [==============================] - 3s 94ms/step - loss: 0.0026\n",
      "Epoch 27/100\n",
      "30/30 [==============================] - 3s 93ms/step - loss: 0.0027\n",
      "Epoch 28/100\n",
      "30/30 [==============================] - 3s 95ms/step - loss: 0.0023\n",
      "Epoch 29/100\n",
      "30/30 [==============================] - 3s 100ms/step - loss: 0.0027\n",
      "Epoch 30/100\n",
      "30/30 [==============================] - 3s 103ms/step - loss: 0.0026\n",
      "Epoch 31/100\n",
      "30/30 [==============================] - 4s 128ms/step - loss: 0.0026\n",
      "Epoch 32/100\n",
      "30/30 [==============================] - 4s 126ms/step - loss: 0.0021\n",
      "Epoch 33/100\n",
      "30/30 [==============================] - 3s 107ms/step - loss: 0.0023\n",
      "Epoch 34/100\n",
      "30/30 [==============================] - 3s 109ms/step - loss: 0.0020\n",
      "Epoch 35/100\n",
      "30/30 [==============================] - 3s 113ms/step - loss: 0.0021\n",
      "Epoch 36/100\n",
      "30/30 [==============================] - 3s 106ms/step - loss: 0.0020\n",
      "Epoch 37/100\n",
      "30/30 [==============================] - 3s 99ms/step - loss: 0.0021\n",
      "Epoch 38/100\n",
      "30/30 [==============================] - 3s 88ms/step - loss: 0.0019\n",
      "Epoch 39/100\n",
      "30/30 [==============================] - 3s 91ms/step - loss: 0.0021\n",
      "Epoch 40/100\n",
      "30/30 [==============================] - 3s 96ms/step - loss: 0.0022\n",
      "Epoch 41/100\n",
      "30/30 [==============================] - 3s 108ms/step - loss: 0.0024\n",
      "Epoch 42/100\n",
      "30/30 [==============================] - 4s 139ms/step - loss: 0.0021\n",
      "Epoch 43/100\n",
      "30/30 [==============================] - 3s 115ms/step - loss: 0.0023\n",
      "Epoch 44/100\n",
      "30/30 [==============================] - 3s 94ms/step - loss: 0.0023\n",
      "Epoch 45/100\n",
      "30/30 [==============================] - 3s 95ms/step - loss: 0.0018\n",
      "Epoch 46/100\n",
      "30/30 [==============================] - 3s 101ms/step - loss: 0.0020\n",
      "Epoch 47/100\n",
      "30/30 [==============================] - 3s 93ms/step - loss: 0.0020\n",
      "Epoch 48/100\n",
      "30/30 [==============================] - 3s 83ms/step - loss: 0.0017\n",
      "Epoch 49/100\n",
      "30/30 [==============================] - 3s 92ms/step - loss: 0.0017\n",
      "Epoch 50/100\n",
      "30/30 [==============================] - 3s 90ms/step - loss: 0.0018\n",
      "Epoch 51/100\n",
      "30/30 [==============================] - 3s 98ms/step - loss: 0.0018\n",
      "Epoch 52/100\n",
      "30/30 [==============================] - 3s 108ms/step - loss: 0.0017\n",
      "Epoch 53/100\n",
      "30/30 [==============================] - 4s 119ms/step - loss: 0.0017\n",
      "Epoch 54/100\n",
      "30/30 [==============================] - 3s 106ms/step - loss: 0.0018\n",
      "Epoch 55/100\n",
      "30/30 [==============================] - 3s 94ms/step - loss: 0.0019\n",
      "Epoch 56/100\n",
      "30/30 [==============================] - 3s 95ms/step - loss: 0.0018\n",
      "Epoch 57/100\n",
      "30/30 [==============================] - 3s 98ms/step - loss: 0.0016\n",
      "Epoch 58/100\n",
      "30/30 [==============================] - 3s 100ms/step - loss: 0.0016\n",
      "Epoch 59/100\n",
      "30/30 [==============================] - 3s 97ms/step - loss: 0.0015\n",
      "Epoch 60/100\n",
      "30/30 [==============================] - 3s 83ms/step - loss: 0.0019\n",
      "Epoch 61/100\n",
      "30/30 [==============================] - 3s 99ms/step - loss: 0.0018\n",
      "Epoch 62/100\n",
      "30/30 [==============================] - 4s 129ms/step - loss: 0.0015\n",
      "Epoch 63/100\n",
      "30/30 [==============================] - 3s 94ms/step - loss: 0.0016\n",
      "Epoch 64/100\n",
      "30/30 [==============================] - 3s 89ms/step - loss: 0.0017\n",
      "Epoch 65/100\n",
      "30/30 [==============================] - 3s 86ms/step - loss: 0.0017\n",
      "Epoch 66/100\n",
      "30/30 [==============================] - 3s 102ms/step - loss: 0.0016\n",
      "Epoch 67/100\n",
      "30/30 [==============================] - 3s 91ms/step - loss: 0.0023\n",
      "Epoch 68/100\n",
      "30/30 [==============================] - 3s 87ms/step - loss: 0.0020\n",
      "Epoch 69/100\n",
      "30/30 [==============================] - 3s 99ms/step - loss: 0.0017\n",
      "Epoch 70/100\n",
      "30/30 [==============================] - 3s 114ms/step - loss: 0.0015\n",
      "Epoch 71/100\n",
      "30/30 [==============================] - 3s 102ms/step - loss: 0.0016\n",
      "Epoch 72/100\n",
      "30/30 [==============================] - 3s 109ms/step - loss: 0.0015\n",
      "Epoch 73/100\n",
      "30/30 [==============================] - 3s 115ms/step - loss: 0.0017\n",
      "Epoch 74/100\n",
      "30/30 [==============================] - 3s 112ms/step - loss: 0.0015\n",
      "Epoch 75/100\n",
      "30/30 [==============================] - 3s 106ms/step - loss: 0.0018\n",
      "Epoch 76/100\n",
      "30/30 [==============================] - 3s 98ms/step - loss: 0.0017\n",
      "Epoch 77/100\n",
      "30/30 [==============================] - 3s 105ms/step - loss: 0.0015\n",
      "Epoch 78/100\n",
      "30/30 [==============================] - 3s 101ms/step - loss: 0.0015\n",
      "Epoch 79/100\n",
      "30/30 [==============================] - 3s 96ms/step - loss: 0.0015\n",
      "Epoch 80/100\n",
      "30/30 [==============================] - 3s 88ms/step - loss: 0.0015\n",
      "Epoch 81/100\n",
      "30/30 [==============================] - 4s 127ms/step - loss: 0.0016\n",
      "Epoch 82/100\n",
      "30/30 [==============================] - 4s 149ms/step - loss: 0.0014\n",
      "Epoch 83/100\n",
      "30/30 [==============================] - 3s 106ms/step - loss: 0.0012\n",
      "Epoch 84/100\n",
      "30/30 [==============================] - 4s 132ms/step - loss: 0.0013\n",
      "Epoch 85/100\n",
      "30/30 [==============================] - 3s 114ms/step - loss: 0.0013\n",
      "Epoch 86/100\n",
      "30/30 [==============================] - 4s 116ms/step - loss: 0.0015\n",
      "Epoch 87/100\n",
      "30/30 [==============================] - 3s 106ms/step - loss: 0.0013\n",
      "Epoch 88/100\n",
      "30/30 [==============================] - 4s 127ms/step - loss: 0.0016\n",
      "Epoch 89/100\n",
      "30/30 [==============================] - 3s 100ms/step - loss: 0.0015\n",
      "Epoch 90/100\n",
      "30/30 [==============================] - 3s 105ms/step - loss: 0.0017\n",
      "Epoch 91/100\n",
      "30/30 [==============================] - 3s 102ms/step - loss: 0.0013\n",
      "Epoch 92/100\n",
      "30/30 [==============================] - 3s 101ms/step - loss: 0.0015\n",
      "Epoch 93/100\n",
      "30/30 [==============================] - 3s 90ms/step - loss: 0.0012\n",
      "Epoch 94/100\n",
      "30/30 [==============================] - 3s 91ms/step - loss: 0.0015\n",
      "Epoch 95/100\n",
      "30/30 [==============================] - 3s 100ms/step - loss: 0.0013\n",
      "Epoch 96/100\n",
      "30/30 [==============================] - 3s 112ms/step - loss: 0.0013\n",
      "Epoch 97/100\n",
      "30/30 [==============================] - 3s 114ms/step - loss: 0.0013\n",
      "Epoch 98/100\n",
      "30/30 [==============================] - 3s 101ms/step - loss: 0.0014\n",
      "Epoch 99/100\n",
      "30/30 [==============================] - 3s 115ms/step - loss: 0.0013\n",
      "Epoch 100/100\n",
      "30/30 [==============================] - 4s 150ms/step - loss: 0.0013\n"
     ]
    },
    {
     "data": {
      "text/plain": [
       "<keras.callbacks.History at 0x13ac3c250>"
      ]
     },
     "execution_count": 6,
     "metadata": {},
     "output_type": "execute_result"
    }
   ],
   "source": [
    "model = Sequential()\n",
    "model.add(LSTM(units=50, return_sequences=True, input_shape=(X_train.shape[1], 1)))\n",
    "model.add(Dropout(0.2))\n",
    "model.add(LSTM(units=50, return_sequences=True))\n",
    "model.add(Dropout(0.2))\n",
    "model.add(LSTM(units=50, return_sequences=True))\n",
    "model.add(Dropout(0.2))\n",
    "model.add(LSTM(units=50))\n",
    "model.add(Dropout(0.2))\n",
    "model.add(Dense(units=1))\n",
    "model.compile(optimizer=\"Adam\", loss=\"mean_squared_error\")\n",
    "model.fit(X_train, y_train, epochs=100, batch_size=32)"
   ]
  },
  {
   "cell_type": "code",
   "execution_count": 7,
   "metadata": {},
   "outputs": [
    {
     "name": "stdout",
     "output_type": "stream",
     "text": [
      "8/8 [==============================] - 4s 32ms/step\n"
     ]
    },
    {
     "data": {
      "text/plain": [
       "7.239657276655098"
      ]
     },
     "execution_count": 7,
     "metadata": {},
     "output_type": "execute_result"
    }
   ],
   "source": [
    "prediction = model.predict(X_test)\n",
    "prediction = scaler.inverse_transform(prediction)\n",
    "rmse = np.sqrt(np.mean(prediction - y_test) ** 2)\n",
    "rmse"
   ]
  },
  {
   "cell_type": "code",
   "execution_count": 10,
   "metadata": {},
   "outputs": [
    {
     "name": "stderr",
     "output_type": "stream",
     "text": [
      "/var/folders/wp/5vvxp1fd6n59wfjszdqtm67r0000gn/T/ipykernel_38836/1424064798.py:4: SettingWithCopyWarning: \n",
      "A value is trying to be set on a copy of a slice from a DataFrame.\n",
      "Try using .loc[row_indexer,col_indexer] = value instead\n",
      "\n",
      "See the caveats in the documentation: https://pandas.pydata.org/pandas-docs/stable/user_guide/indexing.html#returning-a-view-versus-a-copy\n",
      "  validation[\"Predictions\"] = prediction\n",
      "No artists with labels found to put in legend.  Note that artists whose label start with an underscore are ignored when legend() is called with no argument.\n"
     ]
    },
    {
     "data": {
      "image/png": "[encoded data removed]",
      "text/plain": [
       "<Figure size 691.2x446.4 with 1 Axes>"
      ]
     },
     "metadata": {
      "needs_background": "light"
     },
     "output_type": "display_data"
    }
   ],
   "source": [
    "\n",
    "data = data.filter([\"Close\"])\n",
    "train = data[:training_data_len]\n",
    "validation = data[training_data_len:]\n",
    "validation[\"Predictions\"] = prediction\n",
    "plt.figure(figsize=(9.6, 6.2))\n",
    "plt.title(\"{} Stock Price Prediction\".format(ticker))\n",
    "plt.xlabel(\"Date\")\n",
    "plt.ylabel(\"Price ($)\")\n",
    "plt.plot(train)\n",
    "plt.plot(validation[[\"Close\", \"Predictions\"]])\n",
    "plt.legend()\n",
    "plt.show()"
   ]
  }
 ],
 "metadata": {
  "kernelspec": {
   "display_name": "Python 3.10.1 64-bit",
   "language": "python",
   "name": "python3"
  },
  "language_info": {
   "codemirror_mode": {
    "name": "ipython",
    "version": 3
   },
   "file_extension": ".py",
   "mimetype": "text/x-python",
   "name": "python",
   "nbconvert_exporter": "python",
   "pygments_lexer": "ipython3",
   "version": "3.10.1 (v3.10.1:2cd268a3a9, Dec  6 2021, 14:28:59) [Clang 13.0.0 (clang-1300.0.29.3)]"
  },
  "orig_nbformat": 4,
  "vscode": {
   "interpreter": {
    "hash": "aee8b7b246df8f9039afb4144a1f6fd8d2ca17a180786b69acc140d282b71a49"
   }
  }
 },
 "nbformat": 4,
 "nbformat_minor": 2
}
