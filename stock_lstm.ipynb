{
 "cells": [
  {
   "cell_type": "code",
   "execution_count": 59,
   "metadata": {},
   "outputs": [],
   "source": [
    "import math\n",
    "import pandas as pd\n",
    "import numpy as np\n",
    "import matplotlib.pyplot as plt\n",
    "import pandas_datareader as pdr\n",
    "from sklearn.preprocessing import MinMaxScaler\n",
    "from sklearn.model_selection import train_test_split\n",
    "from keras.models import Sequential\n",
    "from keras.layers import LSTM\n",
    "from keras.layers import Dropout\n",
    "from keras.layers import Dense"
   ]
  },
  {
   "cell_type": "code",
   "execution_count": 60,
   "metadata": {},
   "outputs": [
    {
     "data": {
      "text/plain": [
       "[<matplotlib.lines.Line2D at 0x1561a43da20>]"
      ]
     },
     "execution_count": 60,
     "metadata": {},
     "output_type": "execute_result"
    },
    {
     "data": {
      "image/png": "[encoded data removed]",
      "text/plain": [
       "<Figure size 432x288 with 1 Axes>"
      ]
     },
     "metadata": {
      "needs_background": "light"
     },
     "output_type": "display_data"
    }
   ],
   "source": [
    "data = pdr.get_data_yahoo(\"FREY\")\n",
    "plt.plot(data['Close'])"
   ]
  },
  {
   "cell_type": "code",
   "execution_count": 64,
   "metadata": {},
   "outputs": [],
   "source": [
    "close = data[\"Close\"].values\n",
    "training_data_len = math.ceil(len(close) * 0.8)\n",
    "scaler = MinMaxScaler(feature_range=(0, 1))\n",
    "data_scaled = scaler.fit_transform(close.reshape(-1, 1))\n",
    "train = data_scaled[:training_data_len, :]"
   ]
  },
  {
   "cell_type": "code",
   "execution_count": 65,
   "metadata": {},
   "outputs": [],
   "source": [
    "X_train = []\n",
    "y_train = []\n",
    "for i in range(60, len(train)):\n",
    "    X_train.append(train[i-60:i, 0])\n",
    "    y_train.append(train[i, 0])\n",
    "X_train, y_train = np.array(X_train), np.array(y_train)\n",
    "X_train = np.reshape(X_train, (X_train.shape[0], X_train.shape[1], 1))"
   ]
  },
  {
   "cell_type": "code",
   "execution_count": 66,
   "metadata": {},
   "outputs": [],
   "source": [
    "test = data_scaled[training_data_len - 60:, :]\n",
    "X_test =[]\n",
    "y_test = close[training_data_len:]\n",
    "for i in range(60, len(test)):\n",
    "    X_test.append(test[i-60:i, 0])\n",
    "X_test = np.array(X_test)\n",
    "X_test = np.reshape(X_test, (X_test.shape[0], X_test.shape[1], 1))"
   ]
  },
  {
   "cell_type": "code",
   "execution_count": 67,
   "metadata": {},
   "outputs": [
    {
     "name": "stdout",
     "output_type": "stream",
     "text": [
      "Epoch 1/100\n",
      "17/17 [==============================] - 5s 50ms/step - loss: 0.0366\n",
      "Epoch 2/100\n",
      "17/17 [==============================] - 1s 51ms/step - loss: 0.0120\n",
      "Epoch 3/100\n",
      "17/17 [==============================] - 1s 51ms/step - loss: 0.0103\n",
      "Epoch 4/100\n",
      "17/17 [==============================] - 1s 53ms/step - loss: 0.0099\n",
      "Epoch 5/100\n",
      "17/17 [==============================] - 1s 54ms/step - loss: 0.0099\n",
      "Epoch 6/100\n",
      "17/17 [==============================] - 1s 57ms/step - loss: 0.0100\n",
      "Epoch 7/100\n",
      "17/17 [==============================] - 1s 55ms/step - loss: 0.0103\n",
      "Epoch 8/100\n",
      "17/17 [==============================] - 1s 58ms/step - loss: 0.0097\n",
      "Epoch 9/100\n",
      "17/17 [==============================] - 1s 59ms/step - loss: 0.0104\n",
      "Epoch 10/100\n",
      "17/17 [==============================] - 1s 67ms/step - loss: 0.0097\n",
      "Epoch 11/100\n",
      "17/17 [==============================] - 1s 66ms/step - loss: 0.0092\n",
      "Epoch 12/100\n",
      "17/17 [==============================] - 1s 59ms/step - loss: 0.0093\n",
      "Epoch 13/100\n",
      "17/17 [==============================] - 1s 59ms/step - loss: 0.0090\n",
      "Epoch 14/100\n",
      "17/17 [==============================] - 1s 58ms/step - loss: 0.0087\n",
      "Epoch 15/100\n",
      "17/17 [==============================] - 1s 58ms/step - loss: 0.0085\n",
      "Epoch 16/100\n",
      "17/17 [==============================] - 1s 58ms/step - loss: 0.0075\n",
      "Epoch 17/100\n",
      "17/17 [==============================] - 1s 58ms/step - loss: 0.0080\n",
      "Epoch 18/100\n",
      "17/17 [==============================] - 1s 57ms/step - loss: 0.0070\n",
      "Epoch 19/100\n",
      "17/17 [==============================] - 1s 58ms/step - loss: 0.0081\n",
      "Epoch 20/100\n",
      "17/17 [==============================] - 1s 58ms/step - loss: 0.0071\n",
      "Epoch 21/100\n",
      "17/17 [==============================] - 1s 62ms/step - loss: 0.0071\n",
      "Epoch 22/100\n",
      "17/17 [==============================] - 1s 59ms/step - loss: 0.0063\n",
      "Epoch 23/100\n",
      "17/17 [==============================] - 1s 58ms/step - loss: 0.0068\n",
      "Epoch 24/100\n",
      "17/17 [==============================] - 1s 59ms/step - loss: 0.0070\n",
      "Epoch 25/100\n",
      "17/17 [==============================] - 1s 58ms/step - loss: 0.0064\n",
      "Epoch 26/100\n",
      "17/17 [==============================] - 1s 60ms/step - loss: 0.0062\n",
      "Epoch 27/100\n",
      "17/17 [==============================] - 1s 58ms/step - loss: 0.0071\n",
      "Epoch 28/100\n",
      "17/17 [==============================] - 1s 59ms/step - loss: 0.0068\n",
      "Epoch 29/100\n",
      "17/17 [==============================] - 1s 59ms/step - loss: 0.0064\n",
      "Epoch 30/100\n",
      "17/17 [==============================] - 1s 61ms/step - loss: 0.0061\n",
      "Epoch 31/100\n",
      "17/17 [==============================] - 1s 73ms/step - loss: 0.0056\n",
      "Epoch 32/100\n",
      "17/17 [==============================] - 1s 68ms/step - loss: 0.0058\n",
      "Epoch 33/100\n",
      "17/17 [==============================] - 1s 70ms/step - loss: 0.0057\n",
      "Epoch 34/100\n",
      "17/17 [==============================] - 1s 77ms/step - loss: 0.0052\n",
      "Epoch 35/100\n",
      "17/17 [==============================] - 2s 91ms/step - loss: 0.0059\n",
      "Epoch 36/100\n",
      "17/17 [==============================] - 1s 87ms/step - loss: 0.0059\n",
      "Epoch 37/100\n",
      "17/17 [==============================] - 1s 87ms/step - loss: 0.0052\n",
      "Epoch 38/100\n",
      "17/17 [==============================] - 1s 83ms/step - loss: 0.0051\n",
      "Epoch 39/100\n",
      "17/17 [==============================] - 1s 86ms/step - loss: 0.0052\n",
      "Epoch 40/100\n",
      "17/17 [==============================] - 1s 76ms/step - loss: 0.0051\n",
      "Epoch 41/100\n",
      "17/17 [==============================] - 1s 80ms/step - loss: 0.0052\n",
      "Epoch 42/100\n",
      "17/17 [==============================] - 1s 86ms/step - loss: 0.0048\n",
      "Epoch 43/100\n",
      "17/17 [==============================] - 1s 75ms/step - loss: 0.0048\n",
      "Epoch 44/100\n",
      "17/17 [==============================] - 1s 72ms/step - loss: 0.0050\n",
      "Epoch 45/100\n",
      "17/17 [==============================] - 1s 68ms/step - loss: 0.0051\n",
      "Epoch 46/100\n",
      "17/17 [==============================] - 1s 65ms/step - loss: 0.0051\n",
      "Epoch 47/100\n",
      "17/17 [==============================] - 1s 67ms/step - loss: 0.0044\n",
      "Epoch 48/100\n",
      "17/17 [==============================] - 1s 73ms/step - loss: 0.0048\n",
      "Epoch 49/100\n",
      "17/17 [==============================] - 1s 83ms/step - loss: 0.0049\n",
      "Epoch 50/100\n",
      "17/17 [==============================] - 1s 82ms/step - loss: 0.0040\n",
      "Epoch 51/100\n",
      "17/17 [==============================] - 1s 72ms/step - loss: 0.0044\n",
      "Epoch 52/100\n",
      "17/17 [==============================] - 1s 71ms/step - loss: 0.0045\n",
      "Epoch 53/100\n",
      "17/17 [==============================] - 1s 68ms/step - loss: 0.0040\n",
      "Epoch 54/100\n",
      "17/17 [==============================] - 1s 67ms/step - loss: 0.0038\n",
      "Epoch 55/100\n",
      "17/17 [==============================] - 1s 78ms/step - loss: 0.0039\n",
      "Epoch 56/100\n",
      "17/17 [==============================] - 1s 73ms/step - loss: 0.0038\n",
      "Epoch 57/100\n",
      "17/17 [==============================] - 1s 65ms/step - loss: 0.0036\n",
      "Epoch 58/100\n",
      "17/17 [==============================] - 1s 72ms/step - loss: 0.0041\n",
      "Epoch 59/100\n",
      "17/17 [==============================] - 1s 77ms/step - loss: 0.0036\n",
      "Epoch 60/100\n",
      "17/17 [==============================] - 1s 72ms/step - loss: 0.0034\n",
      "Epoch 61/100\n",
      "17/17 [==============================] - 1s 69ms/step - loss: 0.0040\n",
      "Epoch 62/100\n",
      "17/17 [==============================] - 1s 62ms/step - loss: 0.0034\n",
      "Epoch 63/100\n",
      "17/17 [==============================] - 1s 66ms/step - loss: 0.0032\n",
      "Epoch 64/100\n",
      "17/17 [==============================] - 1s 70ms/step - loss: 0.0032\n",
      "Epoch 65/100\n",
      "17/17 [==============================] - 1s 68ms/step - loss: 0.0034\n",
      "Epoch 66/100\n",
      "17/17 [==============================] - 1s 74ms/step - loss: 0.0036\n",
      "Epoch 67/100\n",
      "17/17 [==============================] - 1s 75ms/step - loss: 0.0031\n",
      "Epoch 68/100\n",
      "17/17 [==============================] - 1s 77ms/step - loss: 0.0032\n",
      "Epoch 69/100\n",
      "17/17 [==============================] - 1s 78ms/step - loss: 0.0029\n",
      "Epoch 70/100\n",
      "17/17 [==============================] - 1s 64ms/step - loss: 0.0033\n",
      "Epoch 71/100\n",
      "17/17 [==============================] - 1s 65ms/step - loss: 0.0032\n",
      "Epoch 72/100\n",
      "17/17 [==============================] - 1s 81ms/step - loss: 0.0030\n",
      "Epoch 73/100\n",
      "17/17 [==============================] - 1s 70ms/step - loss: 0.0026\n",
      "Epoch 74/100\n",
      "17/17 [==============================] - 1s 76ms/step - loss: 0.0029\n",
      "Epoch 75/100\n",
      "17/17 [==============================] - 1s 77ms/step - loss: 0.0031\n",
      "Epoch 76/100\n",
      "17/17 [==============================] - 1s 82ms/step - loss: 0.0031\n",
      "Epoch 77/100\n",
      "17/17 [==============================] - 1s 71ms/step - loss: 0.0026\n",
      "Epoch 78/100\n",
      "17/17 [==============================] - 1s 83ms/step - loss: 0.0025\n",
      "Epoch 79/100\n",
      "17/17 [==============================] - 1s 72ms/step - loss: 0.0028\n",
      "Epoch 80/100\n",
      "17/17 [==============================] - 1s 74ms/step - loss: 0.0024\n",
      "Epoch 81/100\n",
      "17/17 [==============================] - 1s 83ms/step - loss: 0.0029\n",
      "Epoch 82/100\n",
      "17/17 [==============================] - 1s 80ms/step - loss: 0.0026\n",
      "Epoch 83/100\n",
      "17/17 [==============================] - 1s 73ms/step - loss: 0.0025\n",
      "Epoch 84/100\n",
      "17/17 [==============================] - 1s 75ms/step - loss: 0.0025\n",
      "Epoch 85/100\n",
      "17/17 [==============================] - 1s 63ms/step - loss: 0.0027\n",
      "Epoch 86/100\n",
      "17/17 [==============================] - 1s 75ms/step - loss: 0.0025\n",
      "Epoch 87/100\n",
      "17/17 [==============================] - 1s 74ms/step - loss: 0.0027\n",
      "Epoch 88/100\n",
      "17/17 [==============================] - 1s 82ms/step - loss: 0.0026\n",
      "Epoch 89/100\n",
      "17/17 [==============================] - 1s 80ms/step - loss: 0.0029\n",
      "Epoch 90/100\n",
      "17/17 [==============================] - 1s 69ms/step - loss: 0.0028\n",
      "Epoch 91/100\n",
      "17/17 [==============================] - 1s 74ms/step - loss: 0.0028\n",
      "Epoch 92/100\n",
      "17/17 [==============================] - 1s 65ms/step - loss: 0.0026\n",
      "Epoch 93/100\n",
      "17/17 [==============================] - 1s 65ms/step - loss: 0.0025\n",
      "Epoch 94/100\n",
      "17/17 [==============================] - 1s 67ms/step - loss: 0.0025\n",
      "Epoch 95/100\n",
      "17/17 [==============================] - 1s 68ms/step - loss: 0.0024\n",
      "Epoch 96/100\n",
      "17/17 [==============================] - 1s 71ms/step - loss: 0.0025\n",
      "Epoch 97/100\n",
      "17/17 [==============================] - 1s 65ms/step - loss: 0.0026\n",
      "Epoch 98/100\n",
      "17/17 [==============================] - 1s 76ms/step - loss: 0.0026\n",
      "Epoch 99/100\n",
      "17/17 [==============================] - 1s 82ms/step - loss: 0.0025\n",
      "Epoch 100/100\n",
      "17/17 [==============================] - 1s 72ms/step - loss: 0.0027\n"
     ]
    },
    {
     "data": {
      "text/plain": [
       "<keras.callbacks.History at 0x1561b4eab30>"
      ]
     },
     "execution_count": 67,
     "metadata": {},
     "output_type": "execute_result"
    }
   ],
   "source": [
    "model = Sequential()\n",
    "model.add(LSTM(units=50, return_sequences=True, input_shape=(X_train.shape[1], 1)))\n",
    "model.add(Dropout(0.2))\n",
    "model.add(LSTM(units=50, return_sequences=True))\n",
    "model.add(Dropout(0.2))\n",
    "model.add(LSTM(units=50, return_sequences=True))\n",
    "model.add(Dropout(0.2))\n",
    "model.add(LSTM(units=50))\n",
    "model.add(Dropout(0.2))\n",
    "model.add(Dense(units=1))\n",
    "model.compile(optimizer=\"Adam\", loss=\"mean_squared_error\")\n",
    "model.fit(X_train, y_train, epochs=100, batch_size=32)"
   ]
  },
  {
   "cell_type": "code",
   "execution_count": 69,
   "metadata": {},
   "outputs": [
    {
     "name": "stdout",
     "output_type": "stream",
     "text": [
      "5/5 [==============================] - 0s 17ms/step\n"
     ]
    },
    {
     "data": {
      "text/plain": [
       "0.14068913459777832"
      ]
     },
     "execution_count": 69,
     "metadata": {},
     "output_type": "execute_result"
    }
   ],
   "source": [
    "prediction = model.predict(X_test)\n",
    "prediction = scaler.inverse_transform(prediction)\n",
    "rmse = np.sqrt(np.mean(prediction - y_test) ** 2)\n",
    "rmse"
   ]
  },
  {
   "cell_type": "code",
   "execution_count": 70,
   "metadata": {},
   "outputs": [
    {
     "name": "stderr",
     "output_type": "stream",
     "text": [
      "C:\\Users\\16692\\AppData\\Local\\Temp\\ipykernel_3676\\3230212111.py:4: SettingWithCopyWarning: \n",
      "A value is trying to be set on a copy of a slice from a DataFrame.\n",
      "Try using .loc[row_indexer,col_indexer] = value instead\n",
      "\n",
      "See the caveats in the documentation: https://pandas.pydata.org/pandas-docs/stable/user_guide/indexing.html#returning-a-view-versus-a-copy\n",
      "  validation[\"Predictions\"] = prediction\n"
     ]
    },
    {
     "data": {
      "image/png": "[encoded data removed]",
      "text/plain": [
       "<Figure size 432x288 with 1 Axes>"
      ]
     },
     "metadata": {
      "needs_background": "light"
     },
     "output_type": "display_data"
    }
   ],
   "source": [
    "data = data.filter([\"Close\"])\n",
    "train = data[:training_data_len]\n",
    "validation = data[training_data_len:]\n",
    "validation[\"Predictions\"] = prediction\n",
    "plt.title(\"FREYR Stock Price Prediction\")\n",
    "plt.xlabel(\"Date\")\n",
    "plt.ylabel(\"Price ($)\")\n",
    "plt.plot(train)\n",
    "plt.plot(validation[[\"Close\", \"Predictions\"]])\n",
    "plt.show()"
   ]
  }
 ],
 "metadata": {
  "kernelspec": {
   "display_name": "Python 3.10.4 64-bit",
   "language": "python",
   "name": "python3"
  },
  "language_info": {
   "codemirror_mode": {
    "name": "ipython",
    "version": 3
   },
   "file_extension": ".py",
   "mimetype": "text/x-python",
   "name": "python",
   "nbconvert_exporter": "python",
   "pygments_lexer": "ipython3",
   "version": "3.10.4"
  },
  "orig_nbformat": 4,
  "vscode": {
   "interpreter": {
    "hash": "4171ebdc67c0cd6b204eb5005e1a217ae122f1e1940f2bcc2fa74288aa0bce85"
   }
  }
 },
 "nbformat": 4,
 "nbformat_minor": 2
}
